{
  "nbformat": 4,
  "nbformat_minor": 0,
  "metadata": {
    "colab": {
      "provenance": [],
      "authorship_tag": "ABX9TyM6QkVpRqbiGVMSuX0YJUmS",
      "include_colab_link": true
    },
    "kernelspec": {
      "name": "python3",
      "display_name": "Python 3"
    },
    "language_info": {
      "name": "python"
    }
  },
  "cells": [
    {
      "cell_type": "markdown",
      "metadata": {
        "id": "view-in-github",
        "colab_type": "text"
      },
      "source": [
        "<a href=\"https://colab.research.google.com/github/cundeyu154/PL-Repo/blob/main/HW1%E6%97%A5%E5%B8%B8%E6%94%AF%E5%87%BA%E6%95%B8%E7%AE%97%E8%88%87%E5%88%86%E6%94%A4.ipynb\" target=\"_parent\"><img src=\"https://colab.research.google.com/assets/colab-badge.svg\" alt=\"Open In Colab\"/></a>"
      ]
    },
    {
      "cell_type": "markdown",
      "source": [
        "日常支出速算與分攤（作業一）\n",
        "\n",
        "\n",
        "目標：從 Sheet 讀「消費紀錄」→ 計總額/分類小計/AA 分攤 → 寫回 Sheet Summary 分頁。\n",
        "\n",
        "AI 點子（可選）：請模型總結本週花錢習慣與建議（例如「外食過多」）。\n",
        "\n",
        "Sheet 欄位：date, category, item, amount, payer\n"
      ],
      "metadata": {
        "id": "LcwXCpwbMlHe"
      }
    },
    {
      "cell_type": "markdown",
      "source": [
        "Google Sheet:https://docs.google.com/spreadsheets/d/1unp8V4uw_zv31d3x9GTWY2Qh5TKvMWYdcpSjyKJar0Q/edit?gid=0#gid=0"
      ],
      "metadata": {
        "id": "zitH_J1vPyAm"
      }
    },
    {
      "cell_type": "code",
      "source": [
        "# 安裝必要的函式庫\n",
        "# gspread 和 pandas 已經安裝過，這裡保留以防萬一\n",
        "!pip install gspread pandas\n",
        "\n",
        "#  匯入函式庫\n",
        "import gspread\n",
        "import pandas as pd\n",
        "from google.colab import auth\n",
        "\n",
        "print(\"函式庫安裝與匯入完成！\")\n",
        "\n",
        "print(\"\\n請點擊連結完成 Google 授權：\")\n",
        "auth.authenticate_user()\n",
        "print(\"Google 授權完成！\")\n",
        "# 使用 google.auth 的憑證來授權 gspread\n",
        "from google.auth import default\n",
        "creds, _ = default()\n",
        "gc = gspread.authorize(creds)\n",
        "print(\"gspread 授權成功。\")\n",
        "\n",
        "\n",
        "spreadsheet_name = \"HW1日常支出數算與分攤\"\n",
        "worksheet_name = \"Sheet1\"\n",
        "\n",
        "try:\n",
        "    sh = gc.open(spreadsheet_name)\n",
        "    worksheet = sh.worksheet(worksheet_name)\n",
        "\n",
        "    try:\n",
        "        summary_ws = sh.worksheet(\"Summary\")\n",
        "        print(\"Summary 分頁已存在，直接使用。\")\n",
        "    except gspread.WorksheetNotFound:\n",
        "        summary_ws = sh.add_worksheet(title=\"Summary\", rows=\"100\", cols=\"20\")\n",
        "        print(\"Summary 分頁已創建並準備好。\")\n",
        "\n",
        "    print(\"試算表連接成功。\")\n",
        "except gspread.WorksheetNotFound:\n",
        "    print(f\"錯誤：找不到資料分頁: {worksheet_name}。請檢查分頁名稱。\")\n",
        "    # 如果找不到，這裡讓程式停止執行\n",
        "    raise\n",
        "except gspread.SpreadsheetNotFound:\n",
        "    print(f\"錯誤：找不到試算表: {spreadsheet_name}。請檢查檔案名稱。\")\n",
        "    # 如果找不到，這裡讓程式停止執行\n",
        "    raise"
      ],
      "metadata": {
        "colab": {
          "base_uri": "https://localhost:8080/"
        },
        "id": "VGeIK-gwFVt6",
        "outputId": "3a3bd2e0-2389-41d1-e122-356fa8f76309"
      },
      "execution_count": null,
      "outputs": [
        {
          "output_type": "stream",
          "name": "stdout",
          "text": [
            "Requirement already satisfied: gspread in /usr/local/lib/python3.12/dist-packages (6.2.1)\n",
            "Requirement already satisfied: pandas in /usr/local/lib/python3.12/dist-packages (2.2.2)\n",
            "Requirement already satisfied: google-auth>=1.12.0 in /usr/local/lib/python3.12/dist-packages (from gspread) (2.38.0)\n",
            "Requirement already satisfied: google-auth-oauthlib>=0.4.1 in /usr/local/lib/python3.12/dist-packages (from gspread) (1.2.2)\n",
            "Requirement already satisfied: numpy>=1.26.0 in /usr/local/lib/python3.12/dist-packages (from pandas) (2.0.2)\n",
            "Requirement already satisfied: python-dateutil>=2.8.2 in /usr/local/lib/python3.12/dist-packages (from pandas) (2.9.0.post0)\n",
            "Requirement already satisfied: pytz>=2020.1 in /usr/local/lib/python3.12/dist-packages (from pandas) (2025.2)\n",
            "Requirement already satisfied: tzdata>=2022.7 in /usr/local/lib/python3.12/dist-packages (from pandas) (2025.2)\n",
            "Requirement already satisfied: cachetools<6.0,>=2.0.0 in /usr/local/lib/python3.12/dist-packages (from google-auth>=1.12.0->gspread) (5.5.2)\n",
            "Requirement already satisfied: pyasn1-modules>=0.2.1 in /usr/local/lib/python3.12/dist-packages (from google-auth>=1.12.0->gspread) (0.4.2)\n",
            "Requirement already satisfied: rsa<5,>=3.1.4 in /usr/local/lib/python3.12/dist-packages (from google-auth>=1.12.0->gspread) (4.9.1)\n",
            "Requirement already satisfied: requests-oauthlib>=0.7.0 in /usr/local/lib/python3.12/dist-packages (from google-auth-oauthlib>=0.4.1->gspread) (2.0.0)\n",
            "Requirement already satisfied: six>=1.5 in /usr/local/lib/python3.12/dist-packages (from python-dateutil>=2.8.2->pandas) (1.17.0)\n",
            "Requirement already satisfied: pyasn1<0.7.0,>=0.6.1 in /usr/local/lib/python3.12/dist-packages (from pyasn1-modules>=0.2.1->google-auth>=1.12.0->gspread) (0.6.1)\n",
            "Requirement already satisfied: oauthlib>=3.0.0 in /usr/local/lib/python3.12/dist-packages (from requests-oauthlib>=0.7.0->google-auth-oauthlib>=0.4.1->gspread) (3.3.1)\n",
            "Requirement already satisfied: requests>=2.0.0 in /usr/local/lib/python3.12/dist-packages (from requests-oauthlib>=0.7.0->google-auth-oauthlib>=0.4.1->gspread) (2.32.4)\n",
            "Requirement already satisfied: charset_normalizer<4,>=2 in /usr/local/lib/python3.12/dist-packages (from requests>=2.0.0->requests-oauthlib>=0.7.0->google-auth-oauthlib>=0.4.1->gspread) (3.4.3)\n",
            "Requirement already satisfied: idna<4,>=2.5 in /usr/local/lib/python3.12/dist-packages (from requests>=2.0.0->requests-oauthlib>=0.7.0->google-auth-oauthlib>=0.4.1->gspread) (3.10)\n",
            "Requirement already satisfied: urllib3<3,>=1.21.1 in /usr/local/lib/python3.12/dist-packages (from requests>=2.0.0->requests-oauthlib>=0.7.0->google-auth-oauthlib>=0.4.1->gspread) (2.5.0)\n",
            "Requirement already satisfied: certifi>=2017.4.17 in /usr/local/lib/python3.12/dist-packages (from requests>=2.0.0->requests-oauthlib>=0.7.0->google-auth-oauthlib>=0.4.1->gspread) (2025.8.3)\n",
            "函式庫安裝與匯入完成！\n",
            "\n",
            "請點擊連結完成 Google 授權：\n",
            "Google 授權完成！\n",
            "gspread 授權成功。\n",
            "Summary 分頁已存在，直接使用。\n",
            "試算表連接成功。\n"
          ]
        }
      ]
    },
    {
      "cell_type": "code",
      "source": [
        "import datetime\n",
        "\n",
        "# --- 1. 互動式詢問使用者輸入 ---\n",
        "print(\"--- 請輸入新增的消費紀錄 ---\")\n",
        "\n",
        "# 詢問日期並檢查格式\n",
        "while True:\n",
        "    date_str = input(\"請輸入日期 (格式：YYYY-MM-DD): \")\n",
        "    try:\n",
        "        datetime.datetime.strptime(date_str, '%Y-%m-%d')\n",
        "        break\n",
        "    except ValueError:\n",
        "        print(\"日期格式錯誤，請重新輸入 (YYYY-MM-DD)。\")\n",
        "\n",
        "# 詢問時間並檢查格式\n",
        "while True:\n",
        "    time_str = input(\"請輸入時間 (格式：HH:MM): \")\n",
        "    try:\n",
        "        datetime.datetime.strptime(time_str, '%H:%M')\n",
        "        break\n",
        "    except ValueError:\n",
        "        print(\"時間格式錯誤，請重新輸入 (HH:MM)。\")\n",
        "\n",
        "# 詢問品項和金額\n",
        "item = input(\"請輸入品項: \")\n",
        "# 確保金額是數字\n",
        "while True:\n",
        "    try:\n",
        "        amount_str = input(\"請輸入金額: \")\n",
        "        amount = float(amount_str)\n",
        "        break\n",
        "    except ValueError:\n",
        "        print(\"金額必須是數字，請重新輸入。\")\n",
        "\n",
        "# 詢問分類和付款人 (假設您的資料表中有這兩個欄位)\n",
        "# 註：如果您的資料表沒有 '分類' 或 '付款人' 欄位，請將下面兩行刪除。\n",
        "category = input(\"請輸入分類 (例如：餐飲外食): \")\n",
        "payer = input(\"請輸入付款人名稱: \")\n",
        "\n",
        "print(f\"\\n您輸入的資料為: {date_str}, {time_str}, {item}, {amount}, {category}, {payer}\")\n",
        "\n",
        "# --- 2. 準備寫入資料 (list of lists 格式) ---\n",
        "\n",
        "new_row_data = [\n",
        "    [date_str, time_str, item, amount, category, payer]\n",
        "]\n",
        "\n",
        "\n",
        "# --- 3. 寫入 Google Sheets ---\n",
        "\n",
        "try:\n",
        "    # 'worksheet' 是您在第一個儲存格中定義的 'Sheet1' 或其他名稱的工作表對象\n",
        "    worksheet.append_rows(values=new_row_data, value_input_option='USER_ENTERED')\n",
        "    print(\"\\n✅ 資料已成功新增到 Google Sheets 的工作表！\")\n",
        "\n",
        "except NameError:\n",
        "    print(\"\\n❌ 錯誤：請先執行第一個儲存格以完成 gspread 授權和工作表連接。\")"
      ],
      "metadata": {
        "colab": {
          "base_uri": "https://localhost:8080/"
        },
        "id": "5ywX7Z6CDiia",
        "outputId": "5d5720e7-dc68-4787-d13a-ef9fda5581b3"
      },
      "execution_count": null,
      "outputs": [
        {
          "output_type": "stream",
          "name": "stdout",
          "text": [
            "--- 請輸入新增的消費紀錄 ---\n",
            "請輸入日期 (格式：YYYY-MM-DD): 2025-09-19\n",
            "請輸入時間 (格式：HH:MM): 06:00\n",
            "請輸入品項: 牛奶\n",
            "請輸入金額: 60\n",
            "請輸入分類 (例如：餐飲外食): 飲料\n",
            "請輸入付款人名稱: B\n",
            "\n",
            "您輸入的資料為: 2025-09-19, 06:00, 牛奶, 60.0, 飲料, B\n",
            "\n",
            "✅ 資料已成功新增到 Google Sheets 的工作表！\n"
          ]
        }
      ]
    },
    {
      "cell_type": "code",
      "source": [
        "# 讀取資料並轉換為 DataFrame\n",
        "data = worksheet.get_all_records()\n",
        "df = pd.DataFrame(data)\n",
        "\n",
        "# 關鍵修正：使用中文欄位名稱 '金額' 進行數字轉換\n",
        "df['金額'] = pd.to_numeric(df['金額'], errors='coerce')\n",
        "df.dropna(subset=['金額'], inplace=True)\n",
        "\n",
        "print(\"數據讀取成功，開始計算...\")\n",
        "\n",
        "# --- 總額計算 ---\n",
        "total_amount = df['金額'].sum()\n",
        "total_records = len(df)\n",
        "print(f\"\\n總消費額: {total_amount:.2f}\")\n",
        "\n",
        "# --- 分類小計 (Category Subtotals) ---\n",
        "category_subtotals = df.groupby('分類')['金額'].sum().reset_index()\n",
        "category_subtotals.columns = ['Category', 'Subtotal']\n",
        "\n",
        "# --- AA 分攤計算 (Split Payments) ---\n",
        "all_payers = df['付款人'].unique()\n",
        "num_payers = len(all_payers)\n",
        "average_share = total_amount / num_payers\n",
        "\n",
        "# 計算每人實際支付總額\n",
        "payer_payments = df.groupby('付款人')['金額'].sum().reindex(all_payers, fill_value=0).reset_index()\n",
        "payer_payments.columns = ['Payer', 'Paid_Total']\n",
        "\n",
        "# 計算每人應收/應付 (Balance)\n",
        "payer_payments['Share_Amount'] = average_share\n",
        "payer_payments['Balance'] = payer_payments['Paid_Total'] - payer_payments['Share_Amount']\n",
        "\n",
        "print(f\"\\nAA 分攤計算完成 (每人平均應分攤: {average_share:.2f})\")\n",
        "print(payer_payments[['Payer', 'Paid_Total', 'Balance']])"
      ],
      "metadata": {
        "colab": {
          "base_uri": "https://localhost:8080/"
        },
        "id": "8s-cC36BGL2Y",
        "outputId": "464f5d6d-414b-47b2-dda9-075289b5b52e"
      },
      "execution_count": null,
      "outputs": [
        {
          "output_type": "stream",
          "name": "stdout",
          "text": [
            "數據讀取成功，開始計算...\n",
            "\n",
            "總消費額: 835.00\n",
            "\n",
            "AA 分攤計算完成 (每人平均應分攤: 417.50)\n",
            "  Payer  Paid_Total  Balance\n",
            "0     A         410     -7.5\n",
            "1     B         425      7.5\n"
          ]
        }
      ]
    },
    {
      "cell_type": "code",
      "source": [
        "# 清空 Summary 分頁 (確保結果是最新的)\n",
        "summary_ws.clear()\n",
        "\n",
        "# 寫入總額\n",
        "summary_ws.update_cell(1, 1, \"總結報告\")\n",
        "summary_ws.update_cell(2, 1, \"總消費額\")\n",
        "# 修正：轉換為標準 float 類型\n",
        "summary_ws.update_cell(2, 2, float(total_amount))\n",
        "summary_ws.update_cell(3, 1, \"總筆數\")\n",
        "summary_ws.update_cell(3, 2, total_records)\n",
        "\n",
        "print(\"\\n基礎資訊寫入 Summary 分頁...\")\n",
        "\n",
        "\n",
        "# 寫入分類小計 (從 A5 開始)\n",
        "summary_ws.update_cell(5, 1, \"分類小計\")\n",
        "# 將 DataFrame 轉換為列表\n",
        "subtotals_list = [category_subtotals.columns.tolist()] + category_subtotals.values.tolist()\n",
        "# ★★★ 關鍵修正：將 update_cells 替換為 update ★★★\n",
        "# 計算寫入範圍，例如 A6:B8\n",
        "subtotals_range = f'A6:B{6 + len(subtotals_list) - 1}'\n",
        "summary_ws.update(range_name=subtotals_range, values=subtotals_list)\n",
        "\n",
        "\n",
        "# 寫入 AA 分攤結果 (從 D5 開始)\n",
        "summary_ws.update_cell(5, 4, \"AA 分攤結果\")\n",
        "summary_ws.update_cell(6, 4, f\"每人平均應分攤: {average_share:.2f}\")\n",
        "\n",
        "# 只取出 Payer, Paid_Total 和 Balance 進行寫入\n",
        "aa_output = payer_payments[['Payer', 'Paid_Total', 'Balance']]\n",
        "aa_list = [aa_output.columns.tolist()] + aa_output.values.tolist()\n",
        "\n",
        "# ★★★ 關鍵修正：將 update_cells 替換為 update ★★★\n",
        "# 計算寫入範圍，例如 D8:F9\n",
        "aa_range = f'D8:F{8 + len(aa_list) - 1}'\n",
        "summary_ws.update(range_name=aa_range, values=aa_list)\n",
        "\n",
        "\n",
        "print(\"\\n結果已成功寫入 Google Sheets 的 Summary 分頁！\")\n",
        "\n",
        "#  組織數據給 AI 分析\n",
        "analysis_data = f\"\"\"\n",
        "\n",
        "總消費額: {total_amount:.2f}\n",
        "分類小計:\n",
        "\"\"\"\n",
        "\n",
        "# 將分類小計結果加入\n",
        "for index, row in category_subtotals.iterrows():\n",
        "    analysis_data += f\"* {row['Category']}: {row['Subtotal']:.2f}\\n\"\n",
        "\n",
        "print(analysis_data)"
      ],
      "metadata": {
        "colab": {
          "base_uri": "https://localhost:8080/"
        },
        "id": "Pzr3hk-wGYTU",
        "outputId": "2e4a7108-c709-428a-95c0-86403d07b656"
      },
      "execution_count": null,
      "outputs": [
        {
          "output_type": "stream",
          "name": "stdout",
          "text": [
            "\n",
            "基礎資訊寫入 Summary 分頁...\n",
            "\n",
            "結果已成功寫入 Google Sheets 的 Summary 分頁！\n",
            "\n",
            "\n",
            "總消費額: 835.00\n",
            "分類小計:\n",
            "* cake: 70.00\n",
            "* 交通: 40.00\n",
            "* 飲料: 195.00\n",
            "* 餐飲外食: 530.00\n",
            "\n"
          ]
        }
      ]
    },
    {
      "cell_type": "code",
      "source": [
        "!pip install gspread pandas gradio\n",
        "import gspread\n",
        "import pandas as pd\n",
        "from google.colab import auth\n",
        "import datetime\n",
        "import gradio as gr\n",
        "import os\n",
        "import numpy as np\n",
        "\n",
        "print(\"✅ 函式庫安裝與匯入完成！\")\n",
        "\n",
        "spreadsheet_name = \"HW1日常支出數算與分攤\"\n",
        "worksheet_name = \"Sheet1\"\n",
        "gc = None"
      ],
      "metadata": {
        "id": "TOX01PB7rl9Q",
        "outputId": "7ca8ff8b-7cd7-4e8b-fab2-4ed65c606f68",
        "colab": {
          "base_uri": "https://localhost:8080/"
        }
      },
      "execution_count": null,
      "outputs": [
        {
          "output_type": "stream",
          "name": "stdout",
          "text": [
            "Requirement already satisfied: gspread in /usr/local/lib/python3.12/dist-packages (6.2.1)\n",
            "Requirement already satisfied: pandas in /usr/local/lib/python3.12/dist-packages (2.2.2)\n",
            "Requirement already satisfied: gradio in /usr/local/lib/python3.12/dist-packages (5.47.2)\n",
            "Requirement already satisfied: google-auth>=1.12.0 in /usr/local/lib/python3.12/dist-packages (from gspread) (2.38.0)\n",
            "Requirement already satisfied: google-auth-oauthlib>=0.4.1 in /usr/local/lib/python3.12/dist-packages (from gspread) (1.2.2)\n",
            "Requirement already satisfied: numpy>=1.26.0 in /usr/local/lib/python3.12/dist-packages (from pandas) (2.0.2)\n",
            "Requirement already satisfied: python-dateutil>=2.8.2 in /usr/local/lib/python3.12/dist-packages (from pandas) (2.9.0.post0)\n",
            "Requirement already satisfied: pytz>=2020.1 in /usr/local/lib/python3.12/dist-packages (from pandas) (2025.2)\n",
            "Requirement already satisfied: tzdata>=2022.7 in /usr/local/lib/python3.12/dist-packages (from pandas) (2025.2)\n",
            "Requirement already satisfied: aiofiles<25.0,>=22.0 in /usr/local/lib/python3.12/dist-packages (from gradio) (24.1.0)\n",
            "Requirement already satisfied: anyio<5.0,>=3.0 in /usr/local/lib/python3.12/dist-packages (from gradio) (4.11.0)\n",
            "Requirement already satisfied: brotli>=1.1.0 in /usr/local/lib/python3.12/dist-packages (from gradio) (1.1.0)\n",
            "Requirement already satisfied: fastapi<1.0,>=0.115.2 in /usr/local/lib/python3.12/dist-packages (from gradio) (0.118.0)\n",
            "Requirement already satisfied: ffmpy in /usr/local/lib/python3.12/dist-packages (from gradio) (0.6.1)\n",
            "Requirement already satisfied: gradio-client==1.13.3 in /usr/local/lib/python3.12/dist-packages (from gradio) (1.13.3)\n",
            "Requirement already satisfied: groovy~=0.1 in /usr/local/lib/python3.12/dist-packages (from gradio) (0.1.2)\n",
            "Requirement already satisfied: httpx<1.0,>=0.24.1 in /usr/local/lib/python3.12/dist-packages (from gradio) (0.28.1)\n",
            "Requirement already satisfied: huggingface-hub<2.0,>=0.33.5 in /usr/local/lib/python3.12/dist-packages (from gradio) (0.35.3)\n",
            "Requirement already satisfied: jinja2<4.0 in /usr/local/lib/python3.12/dist-packages (from gradio) (3.1.6)\n",
            "Requirement already satisfied: markupsafe<4.0,>=2.0 in /usr/local/lib/python3.12/dist-packages (from gradio) (3.0.3)\n",
            "Requirement already satisfied: orjson~=3.0 in /usr/local/lib/python3.12/dist-packages (from gradio) (3.11.3)\n",
            "Requirement already satisfied: packaging in /usr/local/lib/python3.12/dist-packages (from gradio) (25.0)\n",
            "Requirement already satisfied: pillow<12.0,>=8.0 in /usr/local/lib/python3.12/dist-packages (from gradio) (11.3.0)\n",
            "Requirement already satisfied: pydantic<2.12,>=2.0 in /usr/local/lib/python3.12/dist-packages (from gradio) (2.11.9)\n",
            "Requirement already satisfied: pydub in /usr/local/lib/python3.12/dist-packages (from gradio) (0.25.1)\n",
            "Requirement already satisfied: python-multipart>=0.0.18 in /usr/local/lib/python3.12/dist-packages (from gradio) (0.0.20)\n",
            "Requirement already satisfied: pyyaml<7.0,>=5.0 in /usr/local/lib/python3.12/dist-packages (from gradio) (6.0.3)\n",
            "Requirement already satisfied: ruff>=0.9.3 in /usr/local/lib/python3.12/dist-packages (from gradio) (0.13.2)\n",
            "Requirement already satisfied: safehttpx<0.2.0,>=0.1.6 in /usr/local/lib/python3.12/dist-packages (from gradio) (0.1.6)\n",
            "Requirement already satisfied: semantic-version~=2.0 in /usr/local/lib/python3.12/dist-packages (from gradio) (2.10.0)\n",
            "Requirement already satisfied: starlette<1.0,>=0.40.0 in /usr/local/lib/python3.12/dist-packages (from gradio) (0.48.0)\n",
            "Requirement already satisfied: tomlkit<0.14.0,>=0.12.0 in /usr/local/lib/python3.12/dist-packages (from gradio) (0.13.3)\n",
            "Requirement already satisfied: typer<1.0,>=0.12 in /usr/local/lib/python3.12/dist-packages (from gradio) (0.19.2)\n",
            "Requirement already satisfied: typing-extensions~=4.0 in /usr/local/lib/python3.12/dist-packages (from gradio) (4.15.0)\n",
            "Requirement already satisfied: uvicorn>=0.14.0 in /usr/local/lib/python3.12/dist-packages (from gradio) (0.37.0)\n",
            "Requirement already satisfied: fsspec in /usr/local/lib/python3.12/dist-packages (from gradio-client==1.13.3->gradio) (2025.3.0)\n",
            "Requirement already satisfied: websockets<16.0,>=13.0 in /usr/local/lib/python3.12/dist-packages (from gradio-client==1.13.3->gradio) (15.0.1)\n",
            "Requirement already satisfied: idna>=2.8 in /usr/local/lib/python3.12/dist-packages (from anyio<5.0,>=3.0->gradio) (3.10)\n",
            "Requirement already satisfied: sniffio>=1.1 in /usr/local/lib/python3.12/dist-packages (from anyio<5.0,>=3.0->gradio) (1.3.1)\n",
            "Requirement already satisfied: cachetools<6.0,>=2.0.0 in /usr/local/lib/python3.12/dist-packages (from google-auth>=1.12.0->gspread) (5.5.2)\n",
            "Requirement already satisfied: pyasn1-modules>=0.2.1 in /usr/local/lib/python3.12/dist-packages (from google-auth>=1.12.0->gspread) (0.4.2)\n",
            "Requirement already satisfied: rsa<5,>=3.1.4 in /usr/local/lib/python3.12/dist-packages (from google-auth>=1.12.0->gspread) (4.9.1)\n",
            "Requirement already satisfied: requests-oauthlib>=0.7.0 in /usr/local/lib/python3.12/dist-packages (from google-auth-oauthlib>=0.4.1->gspread) (2.0.0)\n",
            "Requirement already satisfied: certifi in /usr/local/lib/python3.12/dist-packages (from httpx<1.0,>=0.24.1->gradio) (2025.8.3)\n",
            "Requirement already satisfied: httpcore==1.* in /usr/local/lib/python3.12/dist-packages (from httpx<1.0,>=0.24.1->gradio) (1.0.9)\n",
            "Requirement already satisfied: h11>=0.16 in /usr/local/lib/python3.12/dist-packages (from httpcore==1.*->httpx<1.0,>=0.24.1->gradio) (0.16.0)\n",
            "Requirement already satisfied: filelock in /usr/local/lib/python3.12/dist-packages (from huggingface-hub<2.0,>=0.33.5->gradio) (3.19.1)\n",
            "Requirement already satisfied: requests in /usr/local/lib/python3.12/dist-packages (from huggingface-hub<2.0,>=0.33.5->gradio) (2.32.4)\n",
            "Requirement already satisfied: tqdm>=4.42.1 in /usr/local/lib/python3.12/dist-packages (from huggingface-hub<2.0,>=0.33.5->gradio) (4.67.1)\n",
            "Requirement already satisfied: hf-xet<2.0.0,>=1.1.3 in /usr/local/lib/python3.12/dist-packages (from huggingface-hub<2.0,>=0.33.5->gradio) (1.1.10)\n",
            "Requirement already satisfied: annotated-types>=0.6.0 in /usr/local/lib/python3.12/dist-packages (from pydantic<2.12,>=2.0->gradio) (0.7.0)\n",
            "Requirement already satisfied: pydantic-core==2.33.2 in /usr/local/lib/python3.12/dist-packages (from pydantic<2.12,>=2.0->gradio) (2.33.2)\n",
            "Requirement already satisfied: typing-inspection>=0.4.0 in /usr/local/lib/python3.12/dist-packages (from pydantic<2.12,>=2.0->gradio) (0.4.2)\n",
            "Requirement already satisfied: six>=1.5 in /usr/local/lib/python3.12/dist-packages (from python-dateutil>=2.8.2->pandas) (1.17.0)\n",
            "Requirement already satisfied: click>=8.0.0 in /usr/local/lib/python3.12/dist-packages (from typer<1.0,>=0.12->gradio) (8.3.0)\n",
            "Requirement already satisfied: shellingham>=1.3.0 in /usr/local/lib/python3.12/dist-packages (from typer<1.0,>=0.12->gradio) (1.5.4)\n",
            "Requirement already satisfied: rich>=10.11.0 in /usr/local/lib/python3.12/dist-packages (from typer<1.0,>=0.12->gradio) (13.9.4)\n",
            "Requirement already satisfied: pyasn1<0.7.0,>=0.6.1 in /usr/local/lib/python3.12/dist-packages (from pyasn1-modules>=0.2.1->google-auth>=1.12.0->gspread) (0.6.1)\n",
            "Requirement already satisfied: oauthlib>=3.0.0 in /usr/local/lib/python3.12/dist-packages (from requests-oauthlib>=0.7.0->google-auth-oauthlib>=0.4.1->gspread) (3.3.1)\n",
            "Requirement already satisfied: charset_normalizer<4,>=2 in /usr/local/lib/python3.12/dist-packages (from requests->huggingface-hub<2.0,>=0.33.5->gradio) (3.4.3)\n",
            "Requirement already satisfied: urllib3<3,>=1.21.1 in /usr/local/lib/python3.12/dist-packages (from requests->huggingface-hub<2.0,>=0.33.5->gradio) (2.5.0)\n",
            "Requirement already satisfied: markdown-it-py>=2.2.0 in /usr/local/lib/python3.12/dist-packages (from rich>=10.11.0->typer<1.0,>=0.12->gradio) (4.0.0)\n",
            "Requirement already satisfied: pygments<3.0.0,>=2.13.0 in /usr/local/lib/python3.12/dist-packages (from rich>=10.11.0->typer<1.0,>=0.12->gradio) (2.19.2)\n",
            "Requirement already satisfied: mdurl~=0.1 in /usr/local/lib/python3.12/dist-packages (from markdown-it-py>=2.2.0->rich>=10.11.0->typer<1.0,>=0.12->gradio) (0.1.2)\n",
            "✅ 函式庫安裝與匯入完成！\n"
          ]
        }
      ]
    },
    {
      "cell_type": "code",
      "source": [
        "def authenticate_and_get_client():\n",
        "    \"\"\"處理 Google 授權並取得 gspread 客戶端。\"\"\"\n",
        "    global gc\n",
        "    if gc is None:\n",
        "        try:\n",
        "            print(\"\\n請點擊連結完成 Google 授權：\")\n",
        "            auth.authenticate_user()\n",
        "            print(\"Google 授權完成！\")\n",
        "            from google.auth import default\n",
        "            creds, _ = default()\n",
        "            gc = gspread.authorize(creds)\n",
        "            print(\"gspread 授權成功。\")\n",
        "            return gc\n",
        "        except Exception as e:\n",
        "            print(f\"❌ 授權失敗: {e}\")\n",
        "            return None\n",
        "    else:\n",
        "        return gc\n",
        "gc = authenticate_and_get_client()"
      ],
      "metadata": {
        "id": "6CSUQiMRrsea",
        "outputId": "f4e490c3-d43d-438a-a67c-29eeacae6624",
        "colab": {
          "base_uri": "https://localhost:8080/"
        }
      },
      "execution_count": null,
      "outputs": [
        {
          "output_type": "stream",
          "name": "stdout",
          "text": [
            "\n",
            "請點擊連結完成 Google 授權：\n",
            "Google 授權完成！\n",
            "gspread 授權成功。\n"
          ]
        }
      ]
    },
    {
      "cell_type": "code",
      "source": [
        "def run_analysis(gc):\n",
        "    \"\"\"\n",
        "    從 Google Sheets 讀取資料，執行計算，並回傳結果 DataFrame 和分析文字。\n",
        "    \"\"\"\n",
        "    if gc is None:\n",
        "        return pd.DataFrame(), pd.DataFrame(), \"❌ 錯誤：gspread 尚未授權。請先執行步驟二完成授權。\"\n",
        "\n",
        "    try:\n",
        "        sh = gc.open(spreadsheet_name)\n",
        "        worksheet = sh.worksheet(worksheet_name)\n",
        "        try:\n",
        "            summary_ws = sh.worksheet(\"Summary\")\n",
        "        except gspread.WorksheetNotFound:\n",
        "            summary_ws = sh.add_worksheet(title=\"Summary\", rows=\"100\", cols=\"20\")\n",
        "\n",
        "        print(f\"試算表 '{spreadsheet_name}' 連接成功，開始讀取數據...\")\n",
        "        data = worksheet.get_all_records()\n",
        "        df = pd.DataFrame(data)\n",
        "\n",
        "        if df.empty:\n",
        "            return pd.DataFrame(), pd.DataFrame(), \"⚠️ 數據分頁為空，無法進行分析。\"\n",
        "\n",
        "        df['金額'] = pd.to_numeric(df['金額'], errors='coerce')\n",
        "        df.dropna(subset=['金額'], inplace=True)\n",
        "\n",
        "        if df.empty:\n",
        "            return pd.DataFrame(), pd.DataFrame(), \"⚠️ 數據分頁中 '金額' 欄位無有效數字，無法進行分析。\"\n",
        "        total_amount = df['金額'].sum()\n",
        "        total_records = len(df)\n",
        "\n",
        "        category_subtotals = df.groupby('分類')['金額'].sum().reset_index()\n",
        "        category_subtotals.columns = ['分類', '金額小計']\n",
        "\n",
        "        all_payers = df['付款人'].unique()\n",
        "        num_payers = len(all_payers)\n",
        "        average_share = total_amount / num_payers if num_payers > 0 else 0\n",
        "\n",
        "        payer_payments = df.groupby('付款人')['金額'].sum().reindex(all_payers, fill_value=0).reset_index()\n",
        "        payer_payments.columns = ['付款人', '已付總額']\n",
        "        payer_payments['應分攤金額'] = average_share\n",
        "        payer_payments['淨額'] = payer_payments['已付總額'] - payer_payments['應分攤金額']\n",
        "\n",
        "        payer_payments_gradio = payer_payments.copy()\n",
        "        payer_payments_gradio[['已付總額', '應分攤金額', '淨額']] = payer_payments_gradio[['已付總額', '應分攤金額', '淨額']].applymap('{:,.2f}'.format)\n",
        "        summary_ws.clear()\n",
        "        summary_ws.update_cell(1, 1, \"總結報告\")\n",
        "        summary_ws.update_cell(2, 1, \"總消費額\")\n",
        "        summary_ws.update_cell(2, 2, float(total_amount))\n",
        "        summary_ws.update_cell(3, 1, \"總筆數\")\n",
        "        summary_ws.update_cell(3, 2, total_records)\n",
        "\n",
        "        summary_ws.update_cell(4, 1, \"每人平均應分攤\")\n",
        "        summary_ws.update_cell(5, 1, \"分類小計\")\n",
        "        subtotals_list = [category_subtotals.columns.tolist()] + category_subtotals.values.tolist()\n",
        "        summary_ws.update(range_name=f'A6:B{6 + len(subtotals_list) - 1}', values=subtotals_list)\n",
        "\n",
        "        summary_ws.update_cell(5, 4, \"AA 分攤結果\")\n",
        "        aa_list = [payer_payments.columns.tolist()] + payer_payments.values.tolist()\n",
        "        aa_output_ws = payer_payments.copy()\n",
        "        aa_list = [aa_output_ws.columns.tolist()] + aa_output_ws.values.tolist()\n",
        "        data_rows = len(aa_list)\n",
        "        aa_range = f'D8:G{8 + data_rows - 1}'\n",
        "\n",
        "\n",
        "        summary_ws.update(range_name=aa_range, values=aa_list)\n",
        "\n",
        "        print(\"✅ 結果已成功寫入 Google Sheets 的 Summary 分頁！\")\n",
        "\n",
        "\n",
        "        analysis_text = f\"💡 **日常支出分析報告** 💡\\n\\n\"\n",
        "        analysis_text += f\"**總消費額**: NT${total_amount:,.2f} (共 {total_records} 筆紀錄)\\n\"\n",
        "        analysis_text += f\"**每人平均應分攤**: NT${average_share:,.2f} (共 {num_payers} 人)\\n\"\n",
        "\n",
        "        analysis_text += \"\\n--- **分類高光** ---\\n\"\n",
        "        if not category_subtotals.empty:\n",
        "            max_cat = category_subtotals.iloc[category_subtotals['金額小計'].argmax()]\n",
        "            min_cat = category_subtotals.iloc[category_subtotals['金額小計'].argmin()]\n",
        "\n",
        "            analysis_text += f\"💸 **最大支出分類**: **{max_cat['分類']}**，共 NT${max_cat['金額小計']:,.2f}。\\n\"\n",
        "            analysis_text += f\"🌱 **最小支出分類**: **{min_cat['分類']}**，共 NT${min_cat['金額小計']:,.2f}。\\n\"\n",
        "            analysis_text += f\"\\n👉 **建議**: 檢視 '{max_cat['分類']}' 是否有節省空間。\\n\"\n",
        "\n",
        "        analysis_text += \"\\n--- **AA 分攤淨額摘要** ---\\n\"\n",
        "\n",
        "        should_receive = payer_payments[payer_payments['淨額'] > 0].sort_values(by='淨額', ascending=False)\n",
        "        should_pay = payer_payments[payer_payments['淨額'] < 0].sort_values(by='淨額', ascending=True)\n",
        "\n",
        "        if not should_receive.empty:\n",
        "            receiver = should_receive.iloc[0]\n",
        "            analysis_text += f\"💰 **最高應收款**: **{receiver['付款人']}**，應收 **{receiver['淨額']:,.2f}** 元。\\n\"\n",
        "\n",
        "        if not should_pay.empty:\n",
        "            payer = should_pay.iloc[0]\n",
        "            analysis_text += f\"📉 **最高應付款**: **{payer['付款人']}**，應付 **{-payer['淨額']:,.2f}** 元。\\n\"\n",
        "\n",
        "        analysis_text += \"\\n**請參考下方的 AA 分攤結果表格，進行結算。**\"\n",
        "\n",
        "        return category_subtotals, payer_payments_gradio[['付款人', '已付總額', '應分攤金額', '淨額']], analysis_text\n",
        "\n",
        "    except gspread.WorksheetNotFound:\n",
        "        return pd.DataFrame(), pd.DataFrame(), f\"❌ 錯誤：找不到資料分頁: {worksheet_name}。請檢查分頁名稱。\"\n",
        "    except gspread.SpreadsheetNotFound:\n",
        "        return pd.DataFrame(), pd.DataFrame(), f\"❌ 錯誤：找不到試算表: {spreadsheet_name}。請檢查檔案名稱。\"\n",
        "    except Exception as e:\n",
        "        return pd.DataFrame(), pd.DataFrame(), f\"❌ 發生未知錯誤: {e}\"\n",
        "\n",
        "def gradio_wrapper():\n",
        "    \"\"\"確保每次都使用全域的 gc 客戶端來呼叫分析函數。\"\"\"\n",
        "    return run_analysis(gc)"
      ],
      "metadata": {
        "id": "Lf1Oz6osr1ei"
      },
      "execution_count": null,
      "outputs": []
    },
    {
      "cell_type": "code",
      "source": [
        "def gradio_wrapper():\n",
        "    \"\"\"確保每次都使用全域的 gc 客戶端來呼叫分析函數。\"\"\"\n",
        "    global gc\n",
        "    return run_analysis(gc)\n",
        "\n",
        "with gr.Blocks(title=\"日常支出數算與分攤報告\") as demo:\n",
        "    gr.Markdown(\"# 💸 Google Sheets 日常支出數算與分攤報告 📊\")\n",
        "    ai_analysis_output = gr.Markdown(label=\"AI 分析結果\", value=\"點擊下方按鈕開始分析...\")\n",
        "    run_button = gr.Button(\"點擊我更新並執行分析\")\n",
        "\n",
        "    gr.Markdown(\"---\")\n",
        "    gr.Markdown(\"## 📋 計算詳細結果\")\n",
        "\n",
        "    with gr.Row():\n",
        "        category_df_output = gr.DataFrame(\n",
        "            headers=[\"分類\", \"金額小計\"],\n",
        "            label=\"分類支出小計\"\n",
        "        )\n",
        "        aa_df_output = gr.DataFrame(\n",
        "            headers=[\"付款人\", \"已付總額\", \"應分攤金額\", \"淨額\"],\n",
        "            label=\"AA 分攤淨額 (+號為應收, -號為應付)\"\n",
        "        )\n",
        "\n",
        "    # 5. 定義互動邏輯 (按鈕點擊觸發分析)\n",
        "    run_button.click(\n",
        "        fn=gradio_wrapper,\n",
        "        inputs=None,\n",
        "        outputs=[category_df_output, aa_df_output, ai_analysis_output]\n",
        "    )\n",
        "\n",
        "    # 6. 在頁面加載時自動執行一次分析\n",
        "    demo.load(\n",
        "        fn=gradio_wrapper,\n",
        "        inputs=None,\n",
        "        outputs=[category_df_output, aa_df_output, ai_analysis_output]\n",
        "    )\n",
        "\n",
        "# 7. 啟動 Gradio 介面\n",
        "print(\"\\n--- 啟動 Gradio 介面 ---\")\n",
        "demo.launch(debug=True, share=True)"
      ],
      "metadata": {
        "id": "xAfJHGsKr6sb",
        "outputId": "6fa1c4fa-a24a-4b24-d8a9-426c5f56e11f",
        "colab": {
          "base_uri": "https://localhost:8080/",
          "height": 1000
        }
      },
      "execution_count": null,
      "outputs": [
        {
          "metadata": {
            "tags": null
          },
          "name": "stdout",
          "output_type": "stream",
          "text": [
            "\n",
            "--- 啟動 Gradio 介面 ---\n",
            "Colab notebook detected. This cell will run indefinitely so that you can see errors and logs. To turn off, set debug=False in launch().\n",
            "* Running on public URL: https://b1e43bca951e184a20.gradio.live\n",
            "\n",
            "This share link expires in 1 week. For free permanent hosting and GPU upgrades, run `gradio deploy` from the terminal in the working directory to deploy to Hugging Face Spaces (https://huggingface.co/spaces)\n"
          ]
        },
        {
          "data": {
            "text/html": [
              "<div><iframe src=\"https://b1e43bca951e184a20.gradio.live\" width=\"100%\" height=\"500\" allow=\"autoplay; camera; microphone; clipboard-read; clipboard-write;\" frameborder=\"0\" allowfullscreen></iframe></div>"
            ],
            "text/plain": [
              "<IPython.core.display.HTML object>"
            ]
          },
          "metadata": {},
          "output_type": "display_data"
        },
        {
          "metadata": {
            "tags": null
          },
          "name": "stdout",
          "output_type": "stream",
          "text": [
            "試算表 'HW1日常支出數算與分攤' 連接成功，開始讀取數據...\n"
          ]
        },
        {
          "metadata": {
            "tags": null
          },
          "name": "stderr",
          "output_type": "stream",
          "text": [
            "/tmp/ipython-input-3568861993.py:44: FutureWarning: DataFrame.applymap has been deprecated. Use DataFrame.map instead.\n",
            "  payer_payments_gradio[['已付總額', '應分攤金額', '淨額']] = payer_payments_gradio[['已付總額', '應分攤金額', '淨額']].applymap('{:,.2f}'.format)\n"
          ]
        },
        {
          "metadata": {
            "tags": null
          },
          "name": "stdout",
          "output_type": "stream",
          "text": [
            "✅ 結果已成功寫入 Google Sheets 的 Summary 分頁！\n",
            "試算表 'HW1日常支出數算與分攤' 連接成功，開始讀取數據...\n"
          ]
        },
        {
          "metadata": {
            "tags": null
          },
          "name": "stderr",
          "output_type": "stream",
          "text": [
            "/tmp/ipython-input-3568861993.py:44: FutureWarning: DataFrame.applymap has been deprecated. Use DataFrame.map instead.\n",
            "  payer_payments_gradio[['已付總額', '應分攤金額', '淨額']] = payer_payments_gradio[['已付總額', '應分攤金額', '淨額']].applymap('{:,.2f}'.format)\n"
          ]
        },
        {
          "metadata": {
            "tags": null
          },
          "name": "stdout",
          "output_type": "stream",
          "text": [
            "✅ 結果已成功寫入 Google Sheets 的 Summary 分頁！\n",
            "試算表 'HW1日常支出數算與分攤' 連接成功，開始讀取數據...\n"
          ]
        },
        {
          "metadata": {
            "tags": null
          },
          "name": "stderr",
          "output_type": "stream",
          "text": [
            "/tmp/ipython-input-3568861993.py:44: FutureWarning: DataFrame.applymap has been deprecated. Use DataFrame.map instead.\n",
            "  payer_payments_gradio[['已付總額', '應分攤金額', '淨額']] = payer_payments_gradio[['已付總額', '應分攤金額', '淨額']].applymap('{:,.2f}'.format)\n"
          ]
        },
        {
          "metadata": {
            "tags": null
          },
          "name": "stdout",
          "output_type": "stream",
          "text": [
            "✅ 結果已成功寫入 Google Sheets 的 Summary 分頁！\n",
            "試算表 'HW1日常支出數算與分攤' 連接成功，開始讀取數據...\n"
          ]
        },
        {
          "metadata": {
            "tags": null
          },
          "name": "stderr",
          "output_type": "stream",
          "text": [
            "/tmp/ipython-input-3568861993.py:44: FutureWarning: DataFrame.applymap has been deprecated. Use DataFrame.map instead.\n",
            "  payer_payments_gradio[['已付總額', '應分攤金額', '淨額']] = payer_payments_gradio[['已付總額', '應分攤金額', '淨額']].applymap('{:,.2f}'.format)\n"
          ]
        },
        {
          "metadata": {
            "tags": null
          },
          "name": "stdout",
          "output_type": "stream",
          "text": [
            "✅ 結果已成功寫入 Google Sheets 的 Summary 分頁！\n",
            "試算表 'HW1日常支出數算與分攤' 連接成功，開始讀取數據...\n"
          ]
        },
        {
          "metadata": {
            "tags": null
          },
          "name": "stderr",
          "output_type": "stream",
          "text": [
            "/tmp/ipython-input-3568861993.py:44: FutureWarning: DataFrame.applymap has been deprecated. Use DataFrame.map instead.\n",
            "  payer_payments_gradio[['已付總額', '應分攤金額', '淨額']] = payer_payments_gradio[['已付總額', '應分攤金額', '淨額']].applymap('{:,.2f}'.format)\n"
          ]
        },
        {
          "output_type": "stream",
          "name": "stdout",
          "text": [
            "✅ 結果已成功寫入 Google Sheets 的 Summary 分頁！\n",
            "試算表 'HW1日常支出數算與分攤' 連接成功，開始讀取數據...\n"
          ]
        },
        {
          "output_type": "stream",
          "name": "stderr",
          "text": [
            "/tmp/ipython-input-3568861993.py:44: FutureWarning: DataFrame.applymap has been deprecated. Use DataFrame.map instead.\n",
            "  payer_payments_gradio[['已付總額', '應分攤金額', '淨額']] = payer_payments_gradio[['已付總額', '應分攤金額', '淨額']].applymap('{:,.2f}'.format)\n"
          ]
        },
        {
          "output_type": "stream",
          "name": "stdout",
          "text": [
            "✅ 結果已成功寫入 Google Sheets 的 Summary 分頁！\n"
          ]
        }
      ]
    }
  ]
}