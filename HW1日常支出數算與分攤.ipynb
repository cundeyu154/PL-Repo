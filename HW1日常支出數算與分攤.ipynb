{
  "nbformat": 4,
  "nbformat_minor": 0,
  "metadata": {
    "colab": {
      "provenance": [],
      "authorship_tag": "ABX9TyNy38fcF+BS2ddpnj4LcAJc",
      "include_colab_link": true
    },
    "kernelspec": {
      "name": "python3",
      "display_name": "Python 3"
    },
    "language_info": {
      "name": "python"
    }
  },
  "cells": [
    {
      "cell_type": "markdown",
      "metadata": {
        "id": "view-in-github",
        "colab_type": "text"
      },
      "source": [
        "<a href=\"https://colab.research.google.com/github/cundeyu154/PL-Repo/blob/main/HW1%E6%97%A5%E5%B8%B8%E6%94%AF%E5%87%BA%E6%95%B8%E7%AE%97%E8%88%87%E5%88%86%E6%94%A4.ipynb\" target=\"_parent\"><img src=\"https://colab.research.google.com/assets/colab-badge.svg\" alt=\"Open In Colab\"/></a>"
      ]
    },
    {
      "cell_type": "markdown",
      "source": [
        "日常支出速算與分攤（作業一）\n",
        "\n",
        "\n",
        "目標：從 Sheet 讀「消費紀錄」→ 計總額/分類小計/AA 分攤 → 寫回 Sheet Summary 分頁。\n",
        "\n",
        "AI 點子（可選）：請模型總結本週花錢習慣與建議（例如「外食過多」）。\n",
        "\n",
        "Sheet 欄位：date, category, item, amount, payer\n"
      ],
      "metadata": {
        "id": "LcwXCpwbMlHe"
      }
    },
    {
      "cell_type": "markdown",
      "source": [
        "Google Sheet:https://docs.google.com/spreadsheets/d/1unp8V4uw_zv31d3x9GTWY2Qh5TKvMWYdcpSjyKJar0Q/edit?gid=0#gid=0"
      ],
      "metadata": {
        "id": "zitH_J1vPyAm"
      }
    },
    {
      "cell_type": "code",
      "source": [
        "# 安裝必要的函式庫\n",
        "# gspread 和 pandas 已經安裝過，這裡保留以防萬一\n",
        "!pip install gspread pandas\n",
        "\n",
        "#  匯入函式庫\n",
        "import gspread\n",
        "import pandas as pd\n",
        "from google.colab import auth\n",
        "\n",
        "print(\"函式庫安裝與匯入完成！\")\n",
        "\n",
        "print(\"\\n請點擊連結完成 Google 授權：\")\n",
        "auth.authenticate_user()\n",
        "print(\"Google 授權完成！\")\n",
        "# 使用 google.auth 的憑證來授權 gspread\n",
        "from google.auth import default\n",
        "creds, _ = default()\n",
        "gc = gspread.authorize(creds)\n",
        "print(\"gspread 授權成功。\")\n",
        "\n",
        "\n",
        "spreadsheet_name = \"HW1日常支出數算與分攤\"\n",
        "worksheet_name = \"Sheet1\"\n",
        "\n",
        "try:\n",
        "    sh = gc.open(spreadsheet_name)\n",
        "    worksheet = sh.worksheet(worksheet_name)\n",
        "\n",
        "    try:\n",
        "        summary_ws = sh.worksheet(\"Summary\")\n",
        "        print(\"Summary 分頁已存在，直接使用。\")\n",
        "    except gspread.WorksheetNotFound:\n",
        "        summary_ws = sh.add_worksheet(title=\"Summary\", rows=\"100\", cols=\"20\")\n",
        "        print(\"Summary 分頁已創建並準備好。\")\n",
        "\n",
        "    print(\"試算表連接成功。\")\n",
        "except gspread.WorksheetNotFound:\n",
        "    print(f\"錯誤：找不到資料分頁: {worksheet_name}。請檢查分頁名稱。\")\n",
        "    # 如果找不到，這裡讓程式停止執行\n",
        "    raise\n",
        "except gspread.SpreadsheetNotFound:\n",
        "    print(f\"錯誤：找不到試算表: {spreadsheet_name}。請檢查檔案名稱。\")\n",
        "    # 如果找不到，這裡讓程式停止執行\n",
        "    raise"
      ],
      "metadata": {
        "colab": {
          "base_uri": "https://localhost:8080/"
        },
        "id": "VGeIK-gwFVt6",
        "outputId": "ee5e6033-cf63-4e95-fc35-6e0a2ecc7d12"
      },
      "execution_count": 1,
      "outputs": [
        {
          "output_type": "stream",
          "name": "stdout",
          "text": [
            "Requirement already satisfied: gspread in /usr/local/lib/python3.12/dist-packages (6.2.1)\n",
            "Requirement already satisfied: pandas in /usr/local/lib/python3.12/dist-packages (2.2.2)\n",
            "Requirement already satisfied: google-auth>=1.12.0 in /usr/local/lib/python3.12/dist-packages (from gspread) (2.38.0)\n",
            "Requirement already satisfied: google-auth-oauthlib>=0.4.1 in /usr/local/lib/python3.12/dist-packages (from gspread) (1.2.2)\n",
            "Requirement already satisfied: numpy>=1.26.0 in /usr/local/lib/python3.12/dist-packages (from pandas) (2.0.2)\n",
            "Requirement already satisfied: python-dateutil>=2.8.2 in /usr/local/lib/python3.12/dist-packages (from pandas) (2.9.0.post0)\n",
            "Requirement already satisfied: pytz>=2020.1 in /usr/local/lib/python3.12/dist-packages (from pandas) (2025.2)\n",
            "Requirement already satisfied: tzdata>=2022.7 in /usr/local/lib/python3.12/dist-packages (from pandas) (2025.2)\n",
            "Requirement already satisfied: cachetools<6.0,>=2.0.0 in /usr/local/lib/python3.12/dist-packages (from google-auth>=1.12.0->gspread) (5.5.2)\n",
            "Requirement already satisfied: pyasn1-modules>=0.2.1 in /usr/local/lib/python3.12/dist-packages (from google-auth>=1.12.0->gspread) (0.4.2)\n",
            "Requirement already satisfied: rsa<5,>=3.1.4 in /usr/local/lib/python3.12/dist-packages (from google-auth>=1.12.0->gspread) (4.9.1)\n",
            "Requirement already satisfied: requests-oauthlib>=0.7.0 in /usr/local/lib/python3.12/dist-packages (from google-auth-oauthlib>=0.4.1->gspread) (2.0.0)\n",
            "Requirement already satisfied: six>=1.5 in /usr/local/lib/python3.12/dist-packages (from python-dateutil>=2.8.2->pandas) (1.17.0)\n",
            "Requirement already satisfied: pyasn1<0.7.0,>=0.6.1 in /usr/local/lib/python3.12/dist-packages (from pyasn1-modules>=0.2.1->google-auth>=1.12.0->gspread) (0.6.1)\n",
            "Requirement already satisfied: oauthlib>=3.0.0 in /usr/local/lib/python3.12/dist-packages (from requests-oauthlib>=0.7.0->google-auth-oauthlib>=0.4.1->gspread) (3.3.1)\n",
            "Requirement already satisfied: requests>=2.0.0 in /usr/local/lib/python3.12/dist-packages (from requests-oauthlib>=0.7.0->google-auth-oauthlib>=0.4.1->gspread) (2.32.4)\n",
            "Requirement already satisfied: charset_normalizer<4,>=2 in /usr/local/lib/python3.12/dist-packages (from requests>=2.0.0->requests-oauthlib>=0.7.0->google-auth-oauthlib>=0.4.1->gspread) (3.4.3)\n",
            "Requirement already satisfied: idna<4,>=2.5 in /usr/local/lib/python3.12/dist-packages (from requests>=2.0.0->requests-oauthlib>=0.7.0->google-auth-oauthlib>=0.4.1->gspread) (3.10)\n",
            "Requirement already satisfied: urllib3<3,>=1.21.1 in /usr/local/lib/python3.12/dist-packages (from requests>=2.0.0->requests-oauthlib>=0.7.0->google-auth-oauthlib>=0.4.1->gspread) (2.5.0)\n",
            "Requirement already satisfied: certifi>=2017.4.17 in /usr/local/lib/python3.12/dist-packages (from requests>=2.0.0->requests-oauthlib>=0.7.0->google-auth-oauthlib>=0.4.1->gspread) (2025.8.3)\n",
            "函式庫安裝與匯入完成！\n",
            "\n",
            "請點擊連結完成 Google 授權：\n",
            "Google 授權完成！\n",
            "gspread 授權成功。\n",
            "Summary 分頁已存在，直接使用。\n",
            "試算表連接成功。\n"
          ]
        }
      ]
    },
    {
      "cell_type": "code",
      "source": [
        "import datetime\n",
        "\n",
        "# --- 1. 互動式詢問使用者輸入 ---\n",
        "print(\"--- 請輸入新增的消費紀錄 ---\")\n",
        "\n",
        "# 詢問日期並檢查格式\n",
        "while True:\n",
        "    date_str = input(\"請輸入日期 (格式：YYYY-MM-DD): \")\n",
        "    try:\n",
        "        datetime.datetime.strptime(date_str, '%Y-%m-%d')\n",
        "        break\n",
        "    except ValueError:\n",
        "        print(\"日期格式錯誤，請重新輸入 (YYYY-MM-DD)。\")\n",
        "\n",
        "# 詢問時間並檢查格式\n",
        "while True:\n",
        "    time_str = input(\"請輸入時間 (格式：HH:MM): \")\n",
        "    try:\n",
        "        datetime.datetime.strptime(time_str, '%H:%M')\n",
        "        break\n",
        "    except ValueError:\n",
        "        print(\"時間格式錯誤，請重新輸入 (HH:MM)。\")\n",
        "\n",
        "# 詢問品項和金額\n",
        "item = input(\"請輸入品項: \")\n",
        "# 確保金額是數字\n",
        "while True:\n",
        "    try:\n",
        "        amount_str = input(\"請輸入金額: \")\n",
        "        amount = float(amount_str)\n",
        "        break\n",
        "    except ValueError:\n",
        "        print(\"金額必須是數字，請重新輸入。\")\n",
        "\n",
        "# 詢問分類和付款人 (假設您的資料表中有這兩個欄位)\n",
        "# 註：如果您的資料表沒有 '分類' 或 '付款人' 欄位，請將下面兩行刪除。\n",
        "category = input(\"請輸入分類 (例如：餐飲外食): \")\n",
        "payer = input(\"請輸入付款人名稱: \")\n",
        "\n",
        "print(f\"\\n您輸入的資料為: {date_str}, {time_str}, {item}, {amount}, {category}, {payer}\")\n",
        "\n",
        "# --- 2. 準備寫入資料 (list of lists 格式) ---\n",
        "\n",
        "new_row_data = [\n",
        "    [date_str, time_str, item, amount, category, payer]\n",
        "]\n",
        "\n",
        "\n",
        "# --- 3. 寫入 Google Sheets ---\n",
        "\n",
        "try:\n",
        "    # 'worksheet' 是您在第一個儲存格中定義的 'Sheet1' 或其他名稱的工作表對象\n",
        "    worksheet.append_rows(values=new_row_data, value_input_option='USER_ENTERED')\n",
        "    print(\"\\n✅ 資料已成功新增到 Google Sheets 的工作表！\")\n",
        "\n",
        "except NameError:\n",
        "    print(\"\\n❌ 錯誤：請先執行第一個儲存格以完成 gspread 授權和工作表連接。\")"
      ],
      "metadata": {
        "colab": {
          "base_uri": "https://localhost:8080/"
        },
        "id": "5ywX7Z6CDiia",
        "outputId": "1992ee54-ad45-4256-8d35-5dd22fe6ed29"
      },
      "execution_count": 2,
      "outputs": [
        {
          "output_type": "stream",
          "name": "stdout",
          "text": [
            "--- 請輸入新增的消費紀錄 ---\n",
            "請輸入日期 (格式：YYYY-MM-DD): 2025-09-21\n",
            "請輸入時間 (格式：HH:MM): 3:00\n",
            "請輸入品項: 甜品\n",
            "請輸入金額: 70\n",
            "請輸入分類 (例如：餐飲外食): cake\n",
            "請輸入付款人名稱: B\n",
            "\n",
            "您輸入的資料為: 2025-09-21, 3:00, 甜品, 70.0, cake, B\n",
            "\n",
            "✅ 資料已成功新增到 Google Sheets 的工作表！\n"
          ]
        }
      ]
    },
    {
      "cell_type": "code",
      "source": [
        "# 讀取資料並轉換為 DataFrame\n",
        "data = worksheet.get_all_records()\n",
        "df = pd.DataFrame(data)\n",
        "\n",
        "# 關鍵修正：使用中文欄位名稱 '金額' 進行數字轉換\n",
        "df['金額'] = pd.to_numeric(df['金額'], errors='coerce')\n",
        "df.dropna(subset=['金額'], inplace=True)\n",
        "\n",
        "print(\"數據讀取成功，開始計算...\")\n",
        "\n",
        "# --- 總額計算 ---\n",
        "total_amount = df['金額'].sum()\n",
        "total_records = len(df)\n",
        "print(f\"\\n總消費額: {total_amount:.2f}\")\n",
        "\n",
        "# --- 分類小計 (Category Subtotals) ---\n",
        "category_subtotals = df.groupby('分類')['金額'].sum().reset_index()\n",
        "category_subtotals.columns = ['Category', 'Subtotal']\n",
        "\n",
        "# --- AA 分攤計算 (Split Payments) ---\n",
        "all_payers = df['付款人'].unique()\n",
        "num_payers = len(all_payers)\n",
        "average_share = total_amount / num_payers\n",
        "\n",
        "# 計算每人實際支付總額\n",
        "payer_payments = df.groupby('付款人')['金額'].sum().reindex(all_payers, fill_value=0).reset_index()\n",
        "payer_payments.columns = ['Payer', 'Paid_Total']\n",
        "\n",
        "# 計算每人應收/應付 (Balance)\n",
        "payer_payments['Share_Amount'] = average_share\n",
        "payer_payments['Balance'] = payer_payments['Paid_Total'] - payer_payments['Share_Amount']\n",
        "\n",
        "print(f\"\\nAA 分攤計算完成 (每人平均應分攤: {average_share:.2f})\")\n",
        "print(payer_payments[['Payer', 'Paid_Total', 'Balance']])"
      ],
      "metadata": {
        "colab": {
          "base_uri": "https://localhost:8080/"
        },
        "id": "8s-cC36BGL2Y",
        "outputId": "fedf84d7-4a36-4aa1-a85d-9573cf7a9332"
      },
      "execution_count": 3,
      "outputs": [
        {
          "output_type": "stream",
          "name": "stdout",
          "text": [
            "數據讀取成功，開始計算...\n",
            "\n",
            "總消費額: 775.00\n",
            "\n",
            "AA 分攤計算完成 (每人平均應分攤: 387.50)\n",
            "  Payer  Paid_Total  Balance\n",
            "0     A         410     22.5\n",
            "1     B         365    -22.5\n"
          ]
        }
      ]
    },
    {
      "cell_type": "code",
      "source": [
        "# 清空 Summary 分頁 (確保結果是最新的)\n",
        "summary_ws.clear()\n",
        "\n",
        "# 寫入總額\n",
        "summary_ws.update_cell(1, 1, \"總結報告\")\n",
        "summary_ws.update_cell(2, 1, \"總消費額\")\n",
        "# 修正：轉換為標準 float 類型\n",
        "summary_ws.update_cell(2, 2, float(total_amount))\n",
        "summary_ws.update_cell(3, 1, \"總筆數\")\n",
        "summary_ws.update_cell(3, 2, total_records)\n",
        "\n",
        "print(\"\\n基礎資訊寫入 Summary 分頁...\")\n",
        "\n",
        "\n",
        "# 寫入分類小計 (從 A5 開始)\n",
        "summary_ws.update_cell(5, 1, \"分類小計\")\n",
        "# 將 DataFrame 轉換為列表\n",
        "subtotals_list = [category_subtotals.columns.tolist()] + category_subtotals.values.tolist()\n",
        "# ★★★ 關鍵修正：將 update_cells 替換為 update ★★★\n",
        "# 計算寫入範圍，例如 A6:B8\n",
        "subtotals_range = f'A6:B{6 + len(subtotals_list) - 1}'\n",
        "summary_ws.update(range_name=subtotals_range, values=subtotals_list)\n",
        "\n",
        "\n",
        "# 寫入 AA 分攤結果 (從 D5 開始)\n",
        "summary_ws.update_cell(5, 4, \"AA 分攤結果\")\n",
        "summary_ws.update_cell(6, 4, f\"每人平均應分攤: {average_share:.2f}\")\n",
        "\n",
        "# 只取出 Payer, Paid_Total 和 Balance 進行寫入\n",
        "aa_output = payer_payments[['Payer', 'Paid_Total', 'Balance']]\n",
        "aa_list = [aa_output.columns.tolist()] + aa_output.values.tolist()\n",
        "\n",
        "# ★★★ 關鍵修正：將 update_cells 替換為 update ★★★\n",
        "# 計算寫入範圍，例如 D8:F9\n",
        "aa_range = f'D8:F{8 + len(aa_list) - 1}'\n",
        "summary_ws.update(range_name=aa_range, values=aa_list)\n",
        "\n",
        "\n",
        "print(\"\\n結果已成功寫入 Google Sheets 的 Summary 分頁！\")\n",
        "\n",
        "#  組織數據給 AI 分析\n",
        "analysis_data = f\"\"\"\n",
        "\n",
        "總消費額: {total_amount:.2f}\n",
        "分類小計:\n",
        "\"\"\"\n",
        "\n",
        "# 將分類小計結果加入\n",
        "for index, row in category_subtotals.iterrows():\n",
        "    analysis_data += f\"* {row['Category']}: {row['Subtotal']:.2f}\\n\"\n",
        "\n",
        "print(analysis_data)"
      ],
      "metadata": {
        "colab": {
          "base_uri": "https://localhost:8080/"
        },
        "id": "Pzr3hk-wGYTU",
        "outputId": "5673c787-bd3b-4ada-8386-6b0dbd0052c3"
      },
      "execution_count": 4,
      "outputs": [
        {
          "output_type": "stream",
          "name": "stdout",
          "text": [
            "\n",
            "基礎資訊寫入 Summary 分頁...\n",
            "\n",
            "結果已成功寫入 Google Sheets 的 Summary 分頁！\n",
            "\n",
            "\n",
            "總消費額: 775.00\n",
            "分類小計:\n",
            "* cake: 70.00\n",
            "* 交通: 40.00\n",
            "* 飲料: 135.00\n",
            "* 餐飲外食: 530.00\n",
            "\n"
          ]
        }
      ]
    }
  ]
}